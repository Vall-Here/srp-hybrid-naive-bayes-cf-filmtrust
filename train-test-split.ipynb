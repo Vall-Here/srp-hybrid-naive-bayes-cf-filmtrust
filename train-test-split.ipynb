{
 "cells": [
  {
   "cell_type": "code",
   "execution_count": null,
   "id": "68f0c2d8",
   "metadata": {},
   "outputs": [],
   "source": [
    "# # Load the original ratings.txt file\n",
    "# df = pd.read_csv('./film-trust/ratings.txt', sep=' ', names=['user', 'item', 'rating'])\n",
    "\n",
    "# print(f\"Dataset loaded: {len(df)} ratings\")\n",
    "# print(f\"Users: {df['user'].nunique()}\")\n",
    "# print(f\"Items: {df['item'].nunique()}\")\n",
    "# print(f\"Rating range: {df['rating'].min()} - {df['rating'].max()}\")\n",
    "\n",
    "# # Split into train (80%) and test (20%)\n",
    "# train_df, test_df = train_test_split(df, test_size=0.2, random_state=42)\n",
    "\n",
    "# print(f\"\\nTrain set: {len(train_df)} ratings ({len(train_df)/len(df)*100:.1f}%)\")\n",
    "# print(f\"Test set: {len(test_df)} ratings ({len(test_df)/len(df)*100:.1f}%)\")\n",
    "\n",
    "# # Save train and test sets\n",
    "# train_df.to_csv('./film-trust/train.txt', sep=' ', header=False, index=False)\n",
    "# test_df.to_csv('./film-trust/test.txt', sep=' ', header=False, index=False)\n",
    "\n",
    "# print(\"\\nFiles saved:\")\n",
    "# print(\"- train.txt\")\n",
    "# print(\"- test.txt\")"
   ]
  }
 ],
 "metadata": {
  "kernelspec": {
   "display_name": ".venv",
   "language": "python",
   "name": "python3"
  },
  "language_info": {
   "codemirror_mode": {
    "name": "ipython",
    "version": 3
   },
   "file_extension": ".py",
   "mimetype": "text/x-python",
   "name": "python",
   "nbconvert_exporter": "python",
   "pygments_lexer": "ipython3",
   "version": "3.10.6"
  }
 },
 "nbformat": 4,
 "nbformat_minor": 5
}
